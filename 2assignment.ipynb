{
 "cells": [
  {
   "cell_type": "markdown",
   "id": "2c813d16-0927-4aa8-ab42-1afb7eea01e8",
   "metadata": {},
   "source": [
    "# Question 1"
   ]
  },
  {
   "cell_type": "markdown",
   "id": "c1c26321-e5c4-4c75-9cac-c79dc1b1be32",
   "metadata": {},
   "source": [
    "## WAP to add three numbers and print the result"
   ]
  },
  {
   "cell_type": "code",
   "execution_count": 6,
   "id": "8ce1a1d5-c154-4917-b1ab-bdbd57c352bc",
   "metadata": {},
   "outputs": [
    {
     "name": "stdin",
     "output_type": "stream",
     "text": [
      "Enter first number: 1\n",
      "Enter second number: 2\n",
      "Enter third number: 3\n"
     ]
    },
    {
     "name": "stdout",
     "output_type": "stream",
     "text": [
      "1 + 2 + 3 = 6\n"
     ]
    }
   ],
   "source": [
    "a=int(input(\"Enter first number:\"))\n",
    "b=int(input(\"Enter second number:\"))\n",
    "c=int(input(\"Enter third number:\")) \n",
    "print(f'{a} + {b} + {c} = {a+b+c}')"
   ]
  },
  {
   "cell_type": "markdown",
   "id": "f1b3a5bc-e1f9-48b9-8e7e-1034c643752e",
   "metadata": {},
   "source": [
    "# Question 2"
   ]
  },
  {
   "cell_type": "markdown",
   "id": "3b0a2294-ecae-4b3e-abba-4e403008abe9",
   "metadata": {},
   "source": [
    "## WAP to concatinate three strings and print the result"
   ]
  },
  {
   "cell_type": "code",
   "execution_count": 17,
   "id": "459b1a8b-9d10-4c7f-811c-f1a345dd6c98",
   "metadata": {},
   "outputs": [
    {
     "name": "stdin",
     "output_type": "stream",
     "text": [
      "Enter first string: hello \n",
      "Enter second string: noor \n",
      "Enter third string: whatsup \n"
     ]
    },
    {
     "name": "stdout",
     "output_type": "stream",
     "text": [
      "hello  + noor  + whatsup  = hello noor whatsup \n"
     ]
    }
   ],
   "source": [
    "s1=input(\"Enter first string:\")\n",
    "s2=input(\"Enter second string:\")\n",
    "s3=input(\"Enter third string:\") \n",
    "print(f'{s1} + {s2} + {s3} = {s1 + s2 + s3}')"
   ]
  },
  {
   "cell_type": "code",
   "execution_count": null,
   "id": "549c02dc-085f-4362-8d14-81c7c70313f9",
   "metadata": {},
   "outputs": [],
   "source": []
  }
 ],
 "metadata": {
  "kernelspec": {
   "display_name": "Python [conda env:base] *",
   "language": "python",
   "name": "conda-base-py"
  },
  "language_info": {
   "codemirror_mode": {
    "name": "ipython",
    "version": 3
   },
   "file_extension": ".py",
   "mimetype": "text/x-python",
   "name": "python",
   "nbconvert_exporter": "python",
   "pygments_lexer": "ipython3",
   "version": "3.12.7"
  }
 },
 "nbformat": 4,
 "nbformat_minor": 5
}

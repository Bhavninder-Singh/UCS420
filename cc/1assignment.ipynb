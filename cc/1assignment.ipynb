{
 "cells": [
  {
   "cell_type": "markdown",
   "id": "55310680-f838-46a1-be86-9b28a4cd9d64",
   "metadata": {},
   "source": [
    "# Question 1"
   ]
  },
  {
   "cell_type": "markdown",
   "id": "cc528633-71e7-4818-9952-4fe562b033a1",
   "metadata": {},
   "source": [
    "## WAP to print your name three times"
   ]
  },
  {
   "cell_type": "code",
   "execution_count": 8,
   "id": "4f07194b-b03b-4702-b171-78d628cd7267",
   "metadata": {},
   "outputs": [
    {
     "name": "stdout",
     "output_type": "stream",
     "text": [
      "BHAVNINDER SINGH... BHAVNINDER SINGH... BHAVNINDER SINGH... \n"
     ]
    }
   ],
   "source": [
    "print(3*\"BHAVNINDER SINGH... \")"
   ]
  }
 ],
 "metadata": {
  "kernelspec": {
   "display_name": "Python [conda env:base] *",
   "language": "python",
   "name": "conda-base-py"
  },
  "language_info": {
   "codemirror_mode": {
    "name": "ipython",
    "version": 3
   },
   "file_extension": ".py",
   "mimetype": "text/x-python",
   "name": "python",
   "nbconvert_exporter": "python",
   "pygments_lexer": "ipython3",
   "version": "3.12.7"
  }
 },
 "nbformat": 4,
 "nbformat_minor": 5
}

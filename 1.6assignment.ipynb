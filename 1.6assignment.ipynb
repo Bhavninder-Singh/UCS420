{
 "cells": [
  {
   "cell_type": "markdown",
   "id": "94c64e7a-14b0-41f3-8f36-f96ad9285a36",
   "metadata": {},
   "source": [
    "# Question 1\n",
    "## WAP using function that add all odd numbers from 1 to n, n is given by the user"
   ]
  },
  {
   "cell_type": "code",
   "execution_count": 2,
   "id": "5b430871-9ba1-4765-bbbf-f73a450e95ad",
   "metadata": {},
   "outputs": [
    {
     "name": "stdin",
     "output_type": "stream",
     "text": [
      "Enter any number: 5\n"
     ]
    },
    {
     "name": "stdout",
     "output_type": "stream",
     "text": [
      "Sum of all the odd numbers from 1 to 5 is 9\n"
     ]
    }
   ],
   "source": [
    "def sumodd(n):\n",
    "    sum=0\n",
    "    for i in range(1,n+1):\n",
    "        if i%2!=0:\n",
    "            sum+=i\n",
    "    return sum        \n",
    "n =int(input(\"Enter any number:\"))\n",
    "sum=sumodd(n)\n",
    "print(f'Sum of all the odd numbers from 1 to {n} is {sum}')"
   ]
  },
  {
   "cell_type": "markdown",
   "id": "f94fd096-f64d-4a05-957b-eb0332c6a8d5",
   "metadata": {},
   "source": [
    "# Question 2\n",
    "##  WAP using function that add all prime numbers from 1 to n, n given by the user"
   ]
  },
  {
   "cell_type": "code",
   "execution_count": 5,
   "id": "675e816c-8cf4-4ccb-a0d9-9ac98ec42e2c",
   "metadata": {},
   "outputs": [
    {
     "name": "stdin",
     "output_type": "stream",
     "text": [
      "Enter any number: 13\n"
     ]
    },
    {
     "name": "stdout",
     "output_type": "stream",
     "text": [
      "Sum of all the prime numbers from 1 to 13 is 41\n"
     ]
    }
   ],
   "source": [
    "def sumprime(n):\n",
    "    sum=0\n",
    "    for i in range (2,n+1):\n",
    "        f=0\n",
    "        for j in range(2, i//2 + 1):\n",
    "        \tif  i % j == 0:\n",
    "        \t\tf=1\n",
    "        \t\tbreak\n",
    "        if f==0:\n",
    "        \tsum+=i\n",
    "    return sum\n",
    "n =int(input(\"Enter any number:\"))\n",
    "sum=sumprime(n)\n",
    "print(f'Sum of all the prime numbers from 1 to {n} is {sum}')"
   ]
  },
  {
   "cell_type": "code",
   "execution_count": null,
   "id": "3dbd9042-5d13-4d1f-9456-8034c069fe65",
   "metadata": {},
   "outputs": [],
   "source": []
  }
 ],
 "metadata": {
  "kernelspec": {
   "display_name": "Python [conda env:base] *",
   "language": "python",
   "name": "conda-base-py"
  },
  "language_info": {
   "codemirror_mode": {
    "name": "ipython",
    "version": 3
   },
   "file_extension": ".py",
   "mimetype": "text/x-python",
   "name": "python",
   "nbconvert_exporter": "python",
   "pygments_lexer": "ipython3",
   "version": "3.12.7"
  }
 },
 "nbformat": 4,
 "nbformat_minor": 5
}

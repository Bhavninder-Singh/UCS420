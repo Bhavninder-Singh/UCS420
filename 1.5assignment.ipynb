{
 "cells": [
  {
   "cell_type": "markdown",
   "id": "4c52bdc9-e6f2-46df-bff1-f0c0f7b1b565",
   "metadata": {},
   "source": [
    "# Question 1\n",
    "## WAP to find max amoung three numbers and input from user"
   ]
  },
  {
   "cell_type": "code",
   "execution_count": 2,
   "id": "e0acc1fb-fc29-433b-a671-8deac560da82",
   "metadata": {},
   "outputs": [
    {
     "name": "stdin",
     "output_type": "stream",
     "text": [
      "Enter first number: 1\n",
      "Enter second number: 8\n",
      "Enter third number: 4\n"
     ]
    },
    {
     "name": "stdout",
     "output_type": "stream",
     "text": [
      "Maximum of 1, 8 and 4 is 8\n"
     ]
    }
   ],
   "source": [
    "a=int(input(\"Enter first number:\"))\n",
    "max=a\n",
    "b=int(input(\"Enter second number:\"))\n",
    "if b>max:\n",
    "    max=b\n",
    "c=int(input(\"Enter third number:\"))\n",
    "if c>max:\n",
    "    max=c\n",
    "print(f'Maximum of {a}, {b} and {c} is {max}')    "
   ]
  },
  {
   "cell_type": "markdown",
   "id": "e7ecfa70-6321-4671-bb64-556073371c9e",
   "metadata": {},
   "source": [
    "# Question 2\n",
    "## WAP to add all numbers divisible by 7 and 9 from 1 to n and n is given by the user"
   ]
  },
  {
   "cell_type": "code",
   "execution_count": null,
   "id": "113a4d0e-b118-4d64-9bec-54febb09c369",
   "metadata": {},
   "outputs": [],
   "source": [
    "n =int(input(\"Enter any number:\"))\n",
    "sum=0\n",
    "for i in range(1,n+1):\n",
    "    if i%7==0 and i%9==0:\n",
    "        sum+=i\n",
    "print(f'Sum of all the numers from 1 to {n} that are divisible by 7 and 9 is {sum}')"
   ]
  },
  {
   "cell_type": "markdown",
   "id": "a26b835e-d8b9-40bc-83db-a6a38d2d2ab9",
   "metadata": {},
   "source": [
    "# Question 3\n",
    "## WAP to add all prime numbers from 1 to n and n is given by the user"
   ]
  },
  {
   "cell_type": "code",
   "execution_count": 27,
   "id": "f93daf25-8409-4d89-bb3a-0767dda8f29f",
   "metadata": {},
   "outputs": [
    {
     "name": "stdin",
     "output_type": "stream",
     "text": [
      "Enter any number: 13\n"
     ]
    },
    {
     "name": "stdout",
     "output_type": "stream",
     "text": [
      "Sum of all prime numbers from 1 to 13 is 41\n"
     ]
    }
   ],
   "source": [
    "n =int(input(\"Enter any number:\"))\n",
    "sum=0\n",
    "for i in range (2,n+1):\n",
    "    f=0\n",
    "    for j in range(2, i//2 + 1):\n",
    "    \tif  i % j == 0:\n",
    "    \t\tf=1\n",
    "    \t\tbreak\n",
    "    if f==0:\n",
    "    \tsum+=i\n",
    "print(f'Sum of all prime numbers from 1 to {n} is {sum}')"
   ]
  }
 ],
 "metadata": {
  "kernelspec": {
   "display_name": "Python [conda env:base] *",
   "language": "python",
   "name": "conda-base-py"
  },
  "language_info": {
   "codemirror_mode": {
    "name": "ipython",
    "version": 3
   },
   "file_extension": ".py",
   "mimetype": "text/x-python",
   "name": "python",
   "nbconvert_exporter": "python",
   "pygments_lexer": "ipython3",
   "version": "3.12.7"
  }
 },
 "nbformat": 4,
 "nbformat_minor": 5
}

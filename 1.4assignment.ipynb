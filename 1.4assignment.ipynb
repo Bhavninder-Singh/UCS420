{
 "cells": [
  {
   "cell_type": "markdown",
   "id": "5582192f-4750-4b2b-970b-c754f3d59a73",
   "metadata": {},
   "source": [
    "# Question 1"
   ]
  },
  {
   "cell_type": "markdown",
   "id": "fa20efb6-3b8a-4456-8401-a69d792c924c",
   "metadata": {},
   "source": [
    "## WAP to print the table of 7, 9"
   ]
  },
  {
   "cell_type": "code",
   "execution_count": 7,
   "id": "72f0d494-b3ed-4b8b-8c0e-871f781b1b60",
   "metadata": {},
   "outputs": [
    {
     "name": "stdout",
     "output_type": "stream",
     "text": [
      "Multiplication table of 7:\n",
      "7 * 1 = 7\n",
      "7 * 2 = 14\n",
      "7 * 3 = 21\n",
      "7 * 4 = 28\n",
      "7 * 5 = 35\n",
      "7 * 6 = 42\n",
      "7 * 7 = 49\n",
      "7 * 8 = 56\n",
      "7 * 9 = 63\n",
      "7 * 10 = 70\n",
      "Multiplication table of 9:\n",
      "9 * 1 = 9\n",
      "9 * 2 = 18\n",
      "9 * 3 = 27\n",
      "9 * 4 = 36\n",
      "9 * 5 = 45\n",
      "9 * 6 = 54\n",
      "9 * 7 = 63\n",
      "9 * 8 = 72\n",
      "9 * 9 = 81\n",
      "9 * 10 = 90\n"
     ]
    }
   ],
   "source": [
    "print(\"Multiplication table of 7:\")\n",
    "for i in range(1,11):\n",
    "    print(f'7 * {i} = {7*i}')\n",
    "print(\"Multiplication table of 9:\")\n",
    "for i in range(1,11):\n",
    "    print(f'9 * {i} = {9*i}')    "
   ]
  },
  {
   "cell_type": "markdown",
   "id": "14f241b8-6c72-417b-8c41-cb7496b0e609",
   "metadata": {},
   "source": [
    "# Question 2"
   ]
  },
  {
   "cell_type": "markdown",
   "id": "3b2f1644-5c72-41e6-9f47-df6670a06496",
   "metadata": {},
   "source": [
    "## WAP to print the table of n and n is given by user"
   ]
  },
  {
   "cell_type": "code",
   "execution_count": 11,
   "id": "00af90f8-4f51-4d0d-8c44-8952bd864953",
   "metadata": {},
   "outputs": [
    {
     "name": "stdin",
     "output_type": "stream",
     "text": [
      "Enter any number: 1\n"
     ]
    },
    {
     "name": "stdout",
     "output_type": "stream",
     "text": [
      "Multiplication table of 1:\n",
      "1 * 1 = 1\n",
      "1 * 2 = 2\n",
      "1 * 3 = 3\n",
      "1 * 4 = 4\n",
      "1 * 5 = 5\n",
      "1 * 6 = 6\n",
      "1 * 7 = 7\n",
      "1 * 8 = 8\n",
      "1 * 9 = 9\n",
      "1 * 10 = 10\n"
     ]
    }
   ],
   "source": [
    "n=int(input(\"Enter any number:\"))\n",
    "print(f'Multiplication table of {n}:')\n",
    "for i in range(1,11):\n",
    "    print(f'{n} * {i} = {n*i}')"
   ]
  },
  {
   "cell_type": "markdown",
   "id": "0f46157b-99be-4fc0-b356-856af4917eef",
   "metadata": {},
   "source": [
    "# Question 3"
   ]
  },
  {
   "cell_type": "markdown",
   "id": "e8d7d03d-96cb-43c4-99c5-399679e43538",
   "metadata": {},
   "source": [
    "## WAP to add all the numbers from 1 to n and n is given by user"
   ]
  },
  {
   "cell_type": "code",
   "execution_count": 15,
   "id": "f92813f9-7a63-462f-b96c-cbf5c074f857",
   "metadata": {},
   "outputs": [
    {
     "name": "stdin",
     "output_type": "stream",
     "text": [
      "Enter any number: 5\n"
     ]
    },
    {
     "name": "stdout",
     "output_type": "stream",
     "text": [
      "Sum of all the nubers from 1 to 5 is 15\n"
     ]
    }
   ],
   "source": [
    "n=int(input(\"Enter any number:\"))\n",
    "sum=0\n",
    "for i in range(1,n+1):\n",
    "    sum+=i\n",
    "print(f'Sum of all the nubers from 1 to {n} is {sum}')"
   ]
  },
  {
   "cell_type": "code",
   "execution_count": null,
   "id": "9a72fc16-7c1e-495c-8f5e-79f756b13d89",
   "metadata": {},
   "outputs": [],
   "source": []
  }
 ],
 "metadata": {
  "kernelspec": {
   "display_name": "Python [conda env:base] *",
   "language": "python",
   "name": "conda-base-py"
  },
  "language_info": {
   "codemirror_mode": {
    "name": "ipython",
    "version": 3
   },
   "file_extension": ".py",
   "mimetype": "text/x-python",
   "name": "python",
   "nbconvert_exporter": "python",
   "pygments_lexer": "ipython3",
   "version": "3.12.7"
  }
 },
 "nbformat": 4,
 "nbformat_minor": 5
}
